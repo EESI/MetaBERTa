{
 "cells": [
  {
   "cell_type": "code",
   "execution_count": 1,
   "id": "769ab7d0-57d6-49b3-b145-06482195f571",
   "metadata": {},
   "outputs": [],
   "source": [
    "import time\n",
    "import yaml\n",
    "import wandb\n",
    "import os\n",
    "import glob\n",
    "import numpy as np\n",
    "import itertools\n",
    "import csv\n",
    "from pipeline_function import create_table_from_dict,insert_row,fetch_table_as_dataframe,fetch_row_by_rowid,update_or_insert_column\n",
    "import subprocess\n",
    "import copy\n",
    "import sqlite3\n",
    "import pandas as pd"
   ]
  },
  {
   "cell_type": "markdown",
   "id": "e5e1c273-4bcd-4f34-8cfd-c095da1eba4d",
   "metadata": {},
   "source": [
    "# Database and Table name for pipeline  "
   ]
  },
  {
   "cell_type": "code",
   "execution_count": null,
   "id": "c7eb8564-040e-41aa-a419-4a1943bde8f7",
   "metadata": {},
   "outputs": [],
   "source": [
    "db_file_path = 'pipeline_md.db'\n",
    "table_name = 'meta_data11'"
   ]
  },
  {
   "cell_type": "markdown",
   "id": "07a0c770-05c7-427c-9d8e-1ae896400556",
   "metadata": {},
   "source": [
    "# 1-Create Database and Table "
   ]
  },
  {
   "cell_type": "code",
   "execution_count": null,
   "id": "8241649d-8309-4388-a12f-7d2b1916a098",
   "metadata": {},
   "outputs": [],
   "source": [
    "import sqlite3\n",
    "\n",
    "with open('config.yml', 'r') as file:\n",
    "     cfg = yaml.safe_load(file)\n",
    "\n",
    "\n",
    "\n",
    "create_table_from_dict(db_file_path, table_name, cfg)"
   ]
  },
  {
   "cell_type": "code",
   "execution_count": null,
   "id": "84e2df22-e48e-49cd-a807-d4f84fd3f2f5",
   "metadata": {},
   "outputs": [],
   "source": []
  },
  {
   "cell_type": "markdown",
   "id": "fe8cd752-e742-4ba8-b44e-c1f398b62c1b",
   "metadata": {},
   "source": [
    "# 2-Execute Orchestrator"
   ]
  },
  {
   "cell_type": "code",
   "execution_count": null,
   "id": "c47ed6a8-8f30-4687-98fd-468d5c72e81c",
   "metadata": {},
   "outputs": [],
   "source": [
    "\n",
    "\n",
    "if __name__ == \"__main__\":\n",
    "    \n",
    "    project_name=\"pipeline\"\n",
    "    \n",
    "    components = [\"trainer\",\"embedder\", \"evaluator\",\"done\"]\n",
    "    \n",
    "    with open('config.yml', 'r') as file:\n",
    "         config = yaml.safe_load(file)\n",
    "    \n",
    "    ## create all combination of iteration\n",
    "    variable_options = []\n",
    "    variable_key = []\n",
    "    for key,value in config.items():\n",
    "        if type(value)==list :\n",
    "            variable_key.append(key)\n",
    "            variable_options.append(value)\n",
    "    \n",
    "    # Generate all combinations\n",
    "    combinations_options = list(itertools.product(*variable_options))\n",
    "    \n",
    "    config_stack=[]\n",
    "    \n",
    "    for comb in combinations_options :\n",
    "        \n",
    "        new_config = copy.deepcopy(config)\n",
    "        \n",
    "        for i,key in enumerate(variable_key):\n",
    "            new_config[key]=comb[i]\n",
    "            \n",
    "        config_stack.append(new_config)\n",
    "    \n",
    "    \n",
    "    for cfg in config_stack:\n",
    "        insert_row(db_file_path, table_name, cfg)\n",
    "    \n",
    "    df = fetch_table_as_dataframe(db_file_path, table_name)\n",
    "    \n",
    "    \n",
    "    for i in range(len(df)):\n",
    "        \n",
    "\n",
    "    \n",
    "        cfg=df.iloc[i].to_dict()\n",
    "\n",
    "\n",
    "        current_state = cfg[\"current_state\"] if \"current_state\" in cfg.keys() else None\n",
    "\n",
    "        current_status = cfg[\"current_status\"] if \"current_status\" in cfg.keys() else None\n",
    "\n",
    "        print(\"current_state\",i, current_state, current_status)\n",
    "\n",
    "        if current_status == \"done\":\n",
    "            print(\"You already have all results for these configs\")\n",
    "            # continue\n",
    "        elif current_status == \"pause\":\n",
    "            print(\"you have paused it for some reason\")\n",
    "\n",
    "        elif current_state == \"trainer\" and current_status not in  [\"pending\", \"running\"]:\n",
    "            update_or_insert_column(db_file_path, table_name, cfg[\"rowid\"], column_name=\"current_status\", column_value=\"pending\")\n",
    "            command = f'sbatch train_job.sh {cfg[\"rowid\"]} {table_name} {db_file_path}'\n",
    "            subprocess.call(command, shell=True)\n",
    "\n",
    "        elif current_state == \"embedder\" and current_status not in  [\"pending\", \"running\"]:\n",
    "            update_or_insert_column(db_file_path, table_name, cfg[\"rowid\"], column_name=\"current_status\", column_value=\"pending\")\n",
    "            command = f'sbatch embedding_job.sh {cfg[\"rowid\"]} {table_name} {db_file_path}'\n",
    "            subprocess.call(command, shell=True)\n",
    "\n",
    "        elif current_state == \"evaluator\" and current_status not in  [\"pending\", \"running\"]:\n",
    "            update_or_insert_column(db_file_path, table_name, cfg[\"rowid\"], column_name=\"current_status\", column_value=\"pending\")\n",
    "            command = f'sbatch evaluating_job.sh {cfg[\"rowid\"]} {table_name} {db_file_path}'\n",
    "            subprocess.call(command, shell=True)\n",
    "\n",
    "        elif current_state == None:\n",
    "            update_or_insert_column(db_file_path, table_name, cfg[\"rowid\"], column_name=\"current_state\", column_value=\"trainer\")\n",
    "            update_or_insert_column(db_file_path, table_name, cfg[\"rowid\"], column_name=\"current_status\", column_value=\"pending\")\n",
    "            command = f'sbatch train_job.sh {cfg[\"rowid\"]} {table_name} {db_file_path}'\n",
    "            subprocess.call(command, shell=True)\n",
    "\n",
    "        print(\"=================\")\n",
    "\n",
    "\n",
    "\n",
    "\n",
    "\n",
    "    "
   ]
  },
  {
   "cell_type": "code",
   "execution_count": null,
   "id": "ec2c7d05-ebf2-445e-8d5d-4188d48be10a",
   "metadata": {},
   "outputs": [],
   "source": []
  },
  {
   "cell_type": "code",
   "execution_count": null,
   "id": "228a3bfb-1e1d-4cde-9826-89a770d49161",
   "metadata": {},
   "outputs": [],
   "source": []
  },
  {
   "cell_type": "markdown",
   "id": "6a3a4a01-b13c-4b17-8bea-7847b6aadbb2",
   "metadata": {},
   "source": [
    "# 3- Check Jobs"
   ]
  },
  {
   "cell_type": "code",
   "execution_count": null,
   "id": "8a8d056c-d0fc-4ee2-99e5-9dae998725e0",
   "metadata": {},
   "outputs": [],
   "source": [
    "import sqlite3\n",
    "import pandas as pd\n",
    "from pipeline_function import create_table_from_dict,insert_row,fetch_table_as_dataframe,fetch_row_by_rowid,update_or_insert_column\n",
    "\n",
    "\n",
    "df = fetch_table_as_dataframe(db_file_path, table_name)\n",
    "df[[\"rowid\",\"current_state\",\"current_status\",\"epochs\",\"k_mer_size\",\"model_type\",\"evaluate_path\"]]\n"
   ]
  },
  {
   "cell_type": "code",
   "execution_count": null,
   "id": "42b7065d-fba1-4cd4-b483-81dc7621c0e2",
   "metadata": {},
   "outputs": [],
   "source": []
  },
  {
   "cell_type": "code",
   "execution_count": null,
   "id": "a00461f1-6559-4b46-9c85-920368fc8322",
   "metadata": {},
   "outputs": [],
   "source": []
  }
 ],
 "metadata": {
  "kernelspec": {
   "display_name": "Python 3 (ipykernel)",
   "language": "python",
   "name": "python3"
  },
  "language_info": {
   "codemirror_mode": {
    "name": "ipython",
    "version": 3
   },
   "file_extension": ".py",
   "mimetype": "text/x-python",
   "name": "python",
   "nbconvert_exporter": "python",
   "pygments_lexer": "ipython3",
   "version": "3.10.7"
  }
 },
 "nbformat": 4,
 "nbformat_minor": 5
}
